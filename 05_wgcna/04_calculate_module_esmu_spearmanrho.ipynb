{
 "cells": [
  {
   "cell_type": "code",
   "execution_count": 1,
   "id": "df8b9284",
   "metadata": {},
   "outputs": [
    {
     "name": "stderr",
     "output_type": "stream",
     "text": [
      "── \u001b[1mAttaching core tidyverse packages\u001b[22m ──────────────────────── tidyverse 2.0.0 ──\n",
      "\u001b[32m✔\u001b[39m \u001b[34mdplyr    \u001b[39m 1.1.2     \u001b[32m✔\u001b[39m \u001b[34mreadr    \u001b[39m 2.1.4\n",
      "\u001b[32m✔\u001b[39m \u001b[34mforcats  \u001b[39m 1.0.0     \u001b[32m✔\u001b[39m \u001b[34mstringr  \u001b[39m 1.5.0\n",
      "\u001b[32m✔\u001b[39m \u001b[34mggplot2  \u001b[39m 3.4.2     \u001b[32m✔\u001b[39m \u001b[34mtibble   \u001b[39m 3.2.1\n",
      "\u001b[32m✔\u001b[39m \u001b[34mlubridate\u001b[39m 1.9.2     \u001b[32m✔\u001b[39m \u001b[34mtidyr    \u001b[39m 1.3.0\n",
      "\u001b[32m✔\u001b[39m \u001b[34mpurrr    \u001b[39m 1.0.1     \n",
      "── \u001b[1mConflicts\u001b[22m ────────────────────────────────────────── tidyverse_conflicts() ──\n",
      "\u001b[31m✖\u001b[39m \u001b[34mdplyr\u001b[39m::\u001b[32mfilter()\u001b[39m masks \u001b[34mstats\u001b[39m::filter()\n",
      "\u001b[31m✖\u001b[39m \u001b[34mdplyr\u001b[39m::\u001b[32mlag()\u001b[39m    masks \u001b[34mstats\u001b[39m::lag()\n",
      "\u001b[36mℹ\u001b[39m Use the conflicted package (\u001b[3m\u001b[34m<http://conflicted.r-lib.org/>\u001b[39m\u001b[23m) to force all conflicts to become errors\n"
     ]
    }
   ],
   "source": [
    "library(tidyverse)\n",
    "library(broom)"
   ]
  },
  {
   "cell_type": "code",
   "execution_count": 2,
   "id": "63c856cb",
   "metadata": {},
   "outputs": [
    {
     "name": "stderr",
     "output_type": "stream",
     "text": [
      "\u001b[1mRows: \u001b[22m\u001b[34m15071\u001b[39m \u001b[1mColumns: \u001b[22m\u001b[34m266\u001b[39m\n",
      "\u001b[36m──\u001b[39m \u001b[1mColumn specification\u001b[22m \u001b[36m────────────────────────────────────────────────────────\u001b[39m\n",
      "\u001b[1mDelimiter:\u001b[22m \",\"\n",
      "\u001b[31mchr\u001b[39m   (1): gene\n",
      "\u001b[32mdbl\u001b[39m (265): ABC, ACBG, ACMB, ACNT1, ACNT2, ACOB, ACTE1, ACTE2, CBGRC, CBINH1,...\n",
      "\n",
      "\u001b[36mℹ\u001b[39m Use `spec()` to retrieve the full column specification for this data.\n",
      "\u001b[36mℹ\u001b[39m Specify the column types or set `show_col_types = FALSE` to quiet this message.\n"
     ]
    },
    {
     "data": {
      "text/html": [
       "<table class=\"dataframe\">\n",
       "<caption>A tibble: 6 × 266</caption>\n",
       "<thead>\n",
       "\t<tr><th scope=col>gene</th><th scope=col>ABC</th><th scope=col>ACBG</th><th scope=col>ACMB</th><th scope=col>ACNT1</th><th scope=col>ACNT2</th><th scope=col>ACOB</th><th scope=col>ACTE1</th><th scope=col>ACTE2</th><th scope=col>CBGRC</th><th scope=col>⋯</th><th scope=col>TEINH6</th><th scope=col>TEINH7</th><th scope=col>TEINH8</th><th scope=col>TEINH9</th><th scope=col>VECA</th><th scope=col>VECC</th><th scope=col>VECV</th><th scope=col>VLMC1</th><th scope=col>VLMC2</th><th scope=col>VSMCA</th></tr>\n",
       "\t<tr><th scope=col>&lt;chr&gt;</th><th scope=col>&lt;dbl&gt;</th><th scope=col>&lt;dbl&gt;</th><th scope=col>&lt;dbl&gt;</th><th scope=col>&lt;dbl&gt;</th><th scope=col>&lt;dbl&gt;</th><th scope=col>&lt;dbl&gt;</th><th scope=col>&lt;dbl&gt;</th><th scope=col>&lt;dbl&gt;</th><th scope=col>&lt;dbl&gt;</th><th scope=col>⋯</th><th scope=col>&lt;dbl&gt;</th><th scope=col>&lt;dbl&gt;</th><th scope=col>&lt;dbl&gt;</th><th scope=col>&lt;dbl&gt;</th><th scope=col>&lt;dbl&gt;</th><th scope=col>&lt;dbl&gt;</th><th scope=col>&lt;dbl&gt;</th><th scope=col>&lt;dbl&gt;</th><th scope=col>&lt;dbl&gt;</th><th scope=col>&lt;dbl&gt;</th></tr>\n",
       "</thead>\n",
       "<tbody>\n",
       "\t<tr><td>ENSG00000141668</td><td>0.0000000</td><td>0</td><td>0.0000000</td><td>0.0000000</td><td>0.0000000</td><td>0.0000000</td><td>0.0000000</td><td>0.0000000</td><td>0</td><td>⋯</td><td>0.8457562</td><td>0.7594462</td><td>0.9017036</td><td>0.08039406</td><td>0.0000000</td><td>0.000000</td><td>0.0000000</td><td>0</td><td>0.00000000</td><td>0</td></tr>\n",
       "\t<tr><td>ENSG00000204624</td><td>0.0000000</td><td>0</td><td>0.9498094</td><td>0.3162753</td><td>0.7277725</td><td>0.9034658</td><td>0.8603363</td><td>0.7163228</td><td>0</td><td>⋯</td><td>0.5137109</td><td>0.4615924</td><td>0.0000000</td><td>0.00000000</td><td>0.0000000</td><td>0.000000</td><td>0.0000000</td><td>0</td><td>0.00000000</td><td>0</td></tr>\n",
       "\t<tr><td>ENSG00000187848</td><td>0.0000000</td><td>0</td><td>0.0000000</td><td>0.0000000</td><td>0.0000000</td><td>0.0000000</td><td>0.0000000</td><td>0.0000000</td><td>0</td><td>⋯</td><td>0.0000000</td><td>0.0000000</td><td>0.0000000</td><td>0.00000000</td><td>0.0000000</td><td>0.000000</td><td>0.0000000</td><td>0</td><td>0.00000000</td><td>0</td></tr>\n",
       "\t<tr><td>ENSG00000171522</td><td>0.0000000</td><td>0</td><td>0.0000000</td><td>0.0000000</td><td>0.0000000</td><td>0.0000000</td><td>0.0000000</td><td>0.7736864</td><td>0</td><td>⋯</td><td>0.0000000</td><td>0.0000000</td><td>0.0000000</td><td>0.00000000</td><td>0.0000000</td><td>0.000000</td><td>0.0000000</td><td>0</td><td>0.00000000</td><td>0</td></tr>\n",
       "\t<tr><td>ENSG00000183662</td><td>0.0000000</td><td>0</td><td>0.0000000</td><td>0.0000000</td><td>0.0000000</td><td>0.0000000</td><td>0.0000000</td><td>0.0000000</td><td>0</td><td>⋯</td><td>0.0000000</td><td>0.0000000</td><td>0.0000000</td><td>0.00000000</td><td>0.0000000</td><td>0.000000</td><td>0.0000000</td><td>0</td><td>0.00000000</td><td>0</td></tr>\n",
       "\t<tr><td>ENSG00000113504</td><td>0.9101624</td><td>0</td><td>0.0000000</td><td>0.0000000</td><td>0.0000000</td><td>0.0000000</td><td>0.0000000</td><td>0.0000000</td><td>0</td><td>⋯</td><td>0.0000000</td><td>0.0000000</td><td>0.0000000</td><td>0.00000000</td><td>0.5108949</td><td>0.416002</td><td>0.5872623</td><td>0</td><td>0.03407644</td><td>0</td></tr>\n",
       "</tbody>\n",
       "</table>\n"
      ],
      "text/latex": [
       "A tibble: 6 × 266\n",
       "\\begin{tabular}{lllllllllllllllllllll}\n",
       " gene & ABC & ACBG & ACMB & ACNT1 & ACNT2 & ACOB & ACTE1 & ACTE2 & CBGRC & ⋯ & TEINH6 & TEINH7 & TEINH8 & TEINH9 & VECA & VECC & VECV & VLMC1 & VLMC2 & VSMCA\\\\\n",
       " <chr> & <dbl> & <dbl> & <dbl> & <dbl> & <dbl> & <dbl> & <dbl> & <dbl> & <dbl> & ⋯ & <dbl> & <dbl> & <dbl> & <dbl> & <dbl> & <dbl> & <dbl> & <dbl> & <dbl> & <dbl>\\\\\n",
       "\\hline\n",
       "\t ENSG00000141668 & 0.0000000 & 0 & 0.0000000 & 0.0000000 & 0.0000000 & 0.0000000 & 0.0000000 & 0.0000000 & 0 & ⋯ & 0.8457562 & 0.7594462 & 0.9017036 & 0.08039406 & 0.0000000 & 0.000000 & 0.0000000 & 0 & 0.00000000 & 0\\\\\n",
       "\t ENSG00000204624 & 0.0000000 & 0 & 0.9498094 & 0.3162753 & 0.7277725 & 0.9034658 & 0.8603363 & 0.7163228 & 0 & ⋯ & 0.5137109 & 0.4615924 & 0.0000000 & 0.00000000 & 0.0000000 & 0.000000 & 0.0000000 & 0 & 0.00000000 & 0\\\\\n",
       "\t ENSG00000187848 & 0.0000000 & 0 & 0.0000000 & 0.0000000 & 0.0000000 & 0.0000000 & 0.0000000 & 0.0000000 & 0 & ⋯ & 0.0000000 & 0.0000000 & 0.0000000 & 0.00000000 & 0.0000000 & 0.000000 & 0.0000000 & 0 & 0.00000000 & 0\\\\\n",
       "\t ENSG00000171522 & 0.0000000 & 0 & 0.0000000 & 0.0000000 & 0.0000000 & 0.0000000 & 0.0000000 & 0.7736864 & 0 & ⋯ & 0.0000000 & 0.0000000 & 0.0000000 & 0.00000000 & 0.0000000 & 0.000000 & 0.0000000 & 0 & 0.00000000 & 0\\\\\n",
       "\t ENSG00000183662 & 0.0000000 & 0 & 0.0000000 & 0.0000000 & 0.0000000 & 0.0000000 & 0.0000000 & 0.0000000 & 0 & ⋯ & 0.0000000 & 0.0000000 & 0.0000000 & 0.00000000 & 0.0000000 & 0.000000 & 0.0000000 & 0 & 0.00000000 & 0\\\\\n",
       "\t ENSG00000113504 & 0.9101624 & 0 & 0.0000000 & 0.0000000 & 0.0000000 & 0.0000000 & 0.0000000 & 0.0000000 & 0 & ⋯ & 0.0000000 & 0.0000000 & 0.0000000 & 0.00000000 & 0.5108949 & 0.416002 & 0.5872623 & 0 & 0.03407644 & 0\\\\\n",
       "\\end{tabular}\n"
      ],
      "text/markdown": [
       "\n",
       "A tibble: 6 × 266\n",
       "\n",
       "| gene &lt;chr&gt; | ABC &lt;dbl&gt; | ACBG &lt;dbl&gt; | ACMB &lt;dbl&gt; | ACNT1 &lt;dbl&gt; | ACNT2 &lt;dbl&gt; | ACOB &lt;dbl&gt; | ACTE1 &lt;dbl&gt; | ACTE2 &lt;dbl&gt; | CBGRC &lt;dbl&gt; | ⋯ ⋯ | TEINH6 &lt;dbl&gt; | TEINH7 &lt;dbl&gt; | TEINH8 &lt;dbl&gt; | TEINH9 &lt;dbl&gt; | VECA &lt;dbl&gt; | VECC &lt;dbl&gt; | VECV &lt;dbl&gt; | VLMC1 &lt;dbl&gt; | VLMC2 &lt;dbl&gt; | VSMCA &lt;dbl&gt; |\n",
       "|---|---|---|---|---|---|---|---|---|---|---|---|---|---|---|---|---|---|---|---|---|\n",
       "| ENSG00000141668 | 0.0000000 | 0 | 0.0000000 | 0.0000000 | 0.0000000 | 0.0000000 | 0.0000000 | 0.0000000 | 0 | ⋯ | 0.8457562 | 0.7594462 | 0.9017036 | 0.08039406 | 0.0000000 | 0.000000 | 0.0000000 | 0 | 0.00000000 | 0 |\n",
       "| ENSG00000204624 | 0.0000000 | 0 | 0.9498094 | 0.3162753 | 0.7277725 | 0.9034658 | 0.8603363 | 0.7163228 | 0 | ⋯ | 0.5137109 | 0.4615924 | 0.0000000 | 0.00000000 | 0.0000000 | 0.000000 | 0.0000000 | 0 | 0.00000000 | 0 |\n",
       "| ENSG00000187848 | 0.0000000 | 0 | 0.0000000 | 0.0000000 | 0.0000000 | 0.0000000 | 0.0000000 | 0.0000000 | 0 | ⋯ | 0.0000000 | 0.0000000 | 0.0000000 | 0.00000000 | 0.0000000 | 0.000000 | 0.0000000 | 0 | 0.00000000 | 0 |\n",
       "| ENSG00000171522 | 0.0000000 | 0 | 0.0000000 | 0.0000000 | 0.0000000 | 0.0000000 | 0.0000000 | 0.7736864 | 0 | ⋯ | 0.0000000 | 0.0000000 | 0.0000000 | 0.00000000 | 0.0000000 | 0.000000 | 0.0000000 | 0 | 0.00000000 | 0 |\n",
       "| ENSG00000183662 | 0.0000000 | 0 | 0.0000000 | 0.0000000 | 0.0000000 | 0.0000000 | 0.0000000 | 0.0000000 | 0 | ⋯ | 0.0000000 | 0.0000000 | 0.0000000 | 0.00000000 | 0.0000000 | 0.000000 | 0.0000000 | 0 | 0.00000000 | 0 |\n",
       "| ENSG00000113504 | 0.9101624 | 0 | 0.0000000 | 0.0000000 | 0.0000000 | 0.0000000 | 0.0000000 | 0.0000000 | 0 | ⋯ | 0.0000000 | 0.0000000 | 0.0000000 | 0.00000000 | 0.5108949 | 0.416002 | 0.5872623 | 0 | 0.03407644 | 0 |\n",
       "\n"
      ],
      "text/plain": [
       "  gene            ABC       ACBG ACMB      ACNT1     ACNT2     ACOB     \n",
       "1 ENSG00000141668 0.0000000 0    0.0000000 0.0000000 0.0000000 0.0000000\n",
       "2 ENSG00000204624 0.0000000 0    0.9498094 0.3162753 0.7277725 0.9034658\n",
       "3 ENSG00000187848 0.0000000 0    0.0000000 0.0000000 0.0000000 0.0000000\n",
       "4 ENSG00000171522 0.0000000 0    0.0000000 0.0000000 0.0000000 0.0000000\n",
       "5 ENSG00000183662 0.0000000 0    0.0000000 0.0000000 0.0000000 0.0000000\n",
       "6 ENSG00000113504 0.9101624 0    0.0000000 0.0000000 0.0000000 0.0000000\n",
       "  ACTE1     ACTE2     CBGRC ⋯ TEINH6    TEINH7    TEINH8    TEINH9    \n",
       "1 0.0000000 0.0000000 0     ⋯ 0.8457562 0.7594462 0.9017036 0.08039406\n",
       "2 0.8603363 0.7163228 0     ⋯ 0.5137109 0.4615924 0.0000000 0.00000000\n",
       "3 0.0000000 0.0000000 0     ⋯ 0.0000000 0.0000000 0.0000000 0.00000000\n",
       "4 0.0000000 0.7736864 0     ⋯ 0.0000000 0.0000000 0.0000000 0.00000000\n",
       "5 0.0000000 0.0000000 0     ⋯ 0.0000000 0.0000000 0.0000000 0.00000000\n",
       "6 0.0000000 0.0000000 0     ⋯ 0.0000000 0.0000000 0.0000000 0.00000000\n",
       "  VECA      VECC     VECV      VLMC1 VLMC2      VSMCA\n",
       "1 0.0000000 0.000000 0.0000000 0     0.00000000 0    \n",
       "2 0.0000000 0.000000 0.0000000 0     0.00000000 0    \n",
       "3 0.0000000 0.000000 0.0000000 0     0.00000000 0    \n",
       "4 0.0000000 0.000000 0.0000000 0     0.00000000 0    \n",
       "5 0.0000000 0.000000 0.0000000 0     0.00000000 0    \n",
       "6 0.5108949 0.416002 0.5872623 0     0.03407644 0    "
      ]
     },
     "metadata": {},
     "output_type": "display_data"
    }
   ],
   "source": [
    "# load the mouse brain ESMU. Part of this repo and at https://github.com/perslab/CELLECT/wiki/Precomputed-CELLEX-datasets\n",
    "esmu = read_csv('esmu/mousebrain.mu.csv.gz')\n",
    "esmu %>% head"
   ]
  },
  {
   "cell_type": "code",
   "execution_count": 3,
   "id": "f84ef371",
   "metadata": {},
   "outputs": [
    {
     "name": "stderr",
     "output_type": "stream",
     "text": [
      "\u001b[1mRows: \u001b[22m\u001b[34m19770\u001b[39m \u001b[1mColumns: \u001b[22m\u001b[34m10\u001b[39m\n",
      "\u001b[36m──\u001b[39m \u001b[1mColumn specification\u001b[22m \u001b[36m────────────────────────────────────────────────────────\u001b[39m\n",
      "\u001b[1mDelimiter:\u001b[22m \",\"\n",
      "\u001b[31mchr\u001b[39m (8): data, run, cell_cluster, module, name, genes, ortholog_ensg, orthol...\n",
      "\u001b[32mdbl\u001b[39m (2): pkMs, gene_loadings\n",
      "\n",
      "\u001b[36mℹ\u001b[39m Use `spec()` to retrieve the full column specification for this data.\n",
      "\u001b[36mℹ\u001b[39m Specify the column types or set `show_col_types = FALSE` to quiet this message.\n"
     ]
    },
    {
     "data": {
      "text/html": [
       "<table class=\"dataframe\">\n",
       "<caption>A tibble: 6 × 10</caption>\n",
       "<thead>\n",
       "\t<tr><th scope=col>data</th><th scope=col>run</th><th scope=col>cell_cluster</th><th scope=col>module</th><th scope=col>name</th><th scope=col>genes</th><th scope=col>ortholog_ensg</th><th scope=col>ortholog_name</th><th scope=col>pkMs</th><th scope=col>gene_loadings</th></tr>\n",
       "\t<tr><th scope=col>&lt;chr&gt;</th><th scope=col>&lt;chr&gt;</th><th scope=col>&lt;chr&gt;</th><th scope=col>&lt;chr&gt;</th><th scope=col>&lt;chr&gt;</th><th scope=col>&lt;chr&gt;</th><th scope=col>&lt;chr&gt;</th><th scope=col>&lt;chr&gt;</th><th scope=col>&lt;dbl&gt;</th><th scope=col>&lt;dbl&gt;</th></tr>\n",
       "</thead>\n",
       "<tbody>\n",
       "\t<tr><td>dmb</td><td>ds4_mcs20_pF</td><td>HPF</td><td>orangered</td><td>HPF__23</td><td>ENSMUSG00000120785</td><td>NA</td><td>NA</td><td>0.8369424</td><td>0.1501479</td></tr>\n",
       "\t<tr><td>dmb</td><td>ds4_mcs20_pF</td><td>HPF</td><td>orangered</td><td>HPF__23</td><td>ENSMUSG00000108990</td><td>NA</td><td>NA</td><td>0.8353232</td><td>0.1498574</td></tr>\n",
       "\t<tr><td>dmb</td><td>ds4_mcs20_pF</td><td>HPF</td><td>orangered</td><td>HPF__23</td><td>ENSMUSG00000110233</td><td>NA</td><td>NA</td><td>0.7805153</td><td>0.1400248</td></tr>\n",
       "\t<tr><td>dmb</td><td>ds4_mcs20_pF</td><td>HPF</td><td>orangered</td><td>HPF__23</td><td>ENSMUSG00000083911</td><td>NA</td><td>NA</td><td>0.7797708</td><td>0.1398913</td></tr>\n",
       "\t<tr><td>dmb</td><td>ds4_mcs20_pF</td><td>HPF</td><td>orangered</td><td>HPF__23</td><td>ENSMUSG00000112311</td><td>NA</td><td>NA</td><td>0.7761567</td><td>0.1392429</td></tr>\n",
       "\t<tr><td>dmb</td><td>ds4_mcs20_pF</td><td>HPF</td><td>orangered</td><td>HPF__23</td><td>ENSMUSG00000103485</td><td>NA</td><td>NA</td><td>0.7539321</td><td>0.1352558</td></tr>\n",
       "</tbody>\n",
       "</table>\n"
      ],
      "text/latex": [
       "A tibble: 6 × 10\n",
       "\\begin{tabular}{llllllllll}\n",
       " data & run & cell\\_cluster & module & name & genes & ortholog\\_ensg & ortholog\\_name & pkMs & gene\\_loadings\\\\\n",
       " <chr> & <chr> & <chr> & <chr> & <chr> & <chr> & <chr> & <chr> & <dbl> & <dbl>\\\\\n",
       "\\hline\n",
       "\t dmb & ds4\\_mcs20\\_pF & HPF & orangered & HPF\\_\\_23 & ENSMUSG00000120785 & NA & NA & 0.8369424 & 0.1501479\\\\\n",
       "\t dmb & ds4\\_mcs20\\_pF & HPF & orangered & HPF\\_\\_23 & ENSMUSG00000108990 & NA & NA & 0.8353232 & 0.1498574\\\\\n",
       "\t dmb & ds4\\_mcs20\\_pF & HPF & orangered & HPF\\_\\_23 & ENSMUSG00000110233 & NA & NA & 0.7805153 & 0.1400248\\\\\n",
       "\t dmb & ds4\\_mcs20\\_pF & HPF & orangered & HPF\\_\\_23 & ENSMUSG00000083911 & NA & NA & 0.7797708 & 0.1398913\\\\\n",
       "\t dmb & ds4\\_mcs20\\_pF & HPF & orangered & HPF\\_\\_23 & ENSMUSG00000112311 & NA & NA & 0.7761567 & 0.1392429\\\\\n",
       "\t dmb & ds4\\_mcs20\\_pF & HPF & orangered & HPF\\_\\_23 & ENSMUSG00000103485 & NA & NA & 0.7539321 & 0.1352558\\\\\n",
       "\\end{tabular}\n"
      ],
      "text/markdown": [
       "\n",
       "A tibble: 6 × 10\n",
       "\n",
       "| data &lt;chr&gt; | run &lt;chr&gt; | cell_cluster &lt;chr&gt; | module &lt;chr&gt; | name &lt;chr&gt; | genes &lt;chr&gt; | ortholog_ensg &lt;chr&gt; | ortholog_name &lt;chr&gt; | pkMs &lt;dbl&gt; | gene_loadings &lt;dbl&gt; |\n",
       "|---|---|---|---|---|---|---|---|---|---|\n",
       "| dmb | ds4_mcs20_pF | HPF | orangered | HPF__23 | ENSMUSG00000120785 | NA | NA | 0.8369424 | 0.1501479 |\n",
       "| dmb | ds4_mcs20_pF | HPF | orangered | HPF__23 | ENSMUSG00000108990 | NA | NA | 0.8353232 | 0.1498574 |\n",
       "| dmb | ds4_mcs20_pF | HPF | orangered | HPF__23 | ENSMUSG00000110233 | NA | NA | 0.7805153 | 0.1400248 |\n",
       "| dmb | ds4_mcs20_pF | HPF | orangered | HPF__23 | ENSMUSG00000083911 | NA | NA | 0.7797708 | 0.1398913 |\n",
       "| dmb | ds4_mcs20_pF | HPF | orangered | HPF__23 | ENSMUSG00000112311 | NA | NA | 0.7761567 | 0.1392429 |\n",
       "| dmb | ds4_mcs20_pF | HPF | orangered | HPF__23 | ENSMUSG00000103485 | NA | NA | 0.7539321 | 0.1352558 |\n",
       "\n"
      ],
      "text/plain": [
       "  data run          cell_cluster module    name    genes             \n",
       "1 dmb  ds4_mcs20_pF HPF          orangered HPF__23 ENSMUSG00000120785\n",
       "2 dmb  ds4_mcs20_pF HPF          orangered HPF__23 ENSMUSG00000108990\n",
       "3 dmb  ds4_mcs20_pF HPF          orangered HPF__23 ENSMUSG00000110233\n",
       "4 dmb  ds4_mcs20_pF HPF          orangered HPF__23 ENSMUSG00000083911\n",
       "5 dmb  ds4_mcs20_pF HPF          orangered HPF__23 ENSMUSG00000112311\n",
       "6 dmb  ds4_mcs20_pF HPF          orangered HPF__23 ENSMUSG00000103485\n",
       "  ortholog_ensg ortholog_name pkMs      gene_loadings\n",
       "1 NA            NA            0.8369424 0.1501479    \n",
       "2 NA            NA            0.8353232 0.1498574    \n",
       "3 NA            NA            0.7805153 0.1400248    \n",
       "4 NA            NA            0.7797708 0.1398913    \n",
       "5 NA            NA            0.7761567 0.1392429    \n",
       "6 NA            NA            0.7539321 0.1352558    "
      ]
     },
     "metadata": {},
     "output_type": "display_data"
    }
   ],
   "source": [
    "# load the kmes file\n",
    "kmes = read_csv('wgcna_output/renamed_tables/wgcna_output_ds4_mcs20_pF_geneMod.csv')\n",
    "kmes %>% head"
   ]
  },
  {
   "cell_type": "code",
   "execution_count": 4,
   "id": "af10b4fa",
   "metadata": {},
   "outputs": [
    {
     "name": "stderr",
     "output_type": "stream",
     "text": [
      "Warning message:\n",
      "“\u001b[1m\u001b[22mThere were 189388 warnings in `summarise()`.\n",
      "The first warning was:\n",
      "\u001b[1m\u001b[22m\u001b[36mℹ\u001b[39m In argument: `correlation = tryCatch(...)`.\n",
      "\u001b[36mℹ\u001b[39m In group 1: `name = \"HPF__01\"`, `esmu_cell_type = \"ABC\"`.\n",
      "Caused by warning in `cor()`:\n",
      "\u001b[33m!\u001b[39m the standard deviation is zero\n",
      "\u001b[1m\u001b[22m\u001b[36mℹ\u001b[39m Run `dplyr::last_dplyr_warnings()` to see the 189387 remaining warnings.”\n"
     ]
    },
    {
     "data": {
      "text/html": [
       "<table class=\"dataframe\">\n",
       "<caption>A tibble: 6 × 5</caption>\n",
       "<thead>\n",
       "\t<tr><th scope=col>name</th><th scope=col>esmu_cell_type</th><th scope=col>module_size_ensg</th><th scope=col>correlation</th><th scope=col>pvalue</th></tr>\n",
       "\t<tr><th scope=col>&lt;chr&gt;</th><th scope=col>&lt;chr&gt;</th><th scope=col>&lt;int&gt;</th><th scope=col>&lt;dbl&gt;</th><th scope=col>&lt;dbl&gt;</th></tr>\n",
       "</thead>\n",
       "<tbody>\n",
       "\t<tr><td>HPF__01</td><td>ABC  </td><td>3</td><td>  NA</td><td>       NA</td></tr>\n",
       "\t<tr><td>HPF__01</td><td>ACBG </td><td>3</td><td> 0.0</td><td>0.5000000</td></tr>\n",
       "\t<tr><td>HPF__01</td><td>ACMB </td><td>3</td><td>-0.5</td><td>0.8333333</td></tr>\n",
       "\t<tr><td>HPF__01</td><td>ACNT1</td><td>3</td><td>-1.0</td><td>1.0000000</td></tr>\n",
       "\t<tr><td>HPF__01</td><td>ACNT2</td><td>3</td><td>-0.5</td><td>0.8333333</td></tr>\n",
       "\t<tr><td>HPF__01</td><td>ACOB </td><td>3</td><td>-0.5</td><td>0.8333333</td></tr>\n",
       "</tbody>\n",
       "</table>\n"
      ],
      "text/latex": [
       "A tibble: 6 × 5\n",
       "\\begin{tabular}{lllll}\n",
       " name & esmu\\_cell\\_type & module\\_size\\_ensg & correlation & pvalue\\\\\n",
       " <chr> & <chr> & <int> & <dbl> & <dbl>\\\\\n",
       "\\hline\n",
       "\t HPF\\_\\_01 & ABC   & 3 &   NA &        NA\\\\\n",
       "\t HPF\\_\\_01 & ACBG  & 3 &  0.0 & 0.5000000\\\\\n",
       "\t HPF\\_\\_01 & ACMB  & 3 & -0.5 & 0.8333333\\\\\n",
       "\t HPF\\_\\_01 & ACNT1 & 3 & -1.0 & 1.0000000\\\\\n",
       "\t HPF\\_\\_01 & ACNT2 & 3 & -0.5 & 0.8333333\\\\\n",
       "\t HPF\\_\\_01 & ACOB  & 3 & -0.5 & 0.8333333\\\\\n",
       "\\end{tabular}\n"
      ],
      "text/markdown": [
       "\n",
       "A tibble: 6 × 5\n",
       "\n",
       "| name &lt;chr&gt; | esmu_cell_type &lt;chr&gt; | module_size_ensg &lt;int&gt; | correlation &lt;dbl&gt; | pvalue &lt;dbl&gt; |\n",
       "|---|---|---|---|---|\n",
       "| HPF__01 | ABC   | 3 |   NA |        NA |\n",
       "| HPF__01 | ACBG  | 3 |  0.0 | 0.5000000 |\n",
       "| HPF__01 | ACMB  | 3 | -0.5 | 0.8333333 |\n",
       "| HPF__01 | ACNT1 | 3 | -1.0 | 1.0000000 |\n",
       "| HPF__01 | ACNT2 | 3 | -0.5 | 0.8333333 |\n",
       "| HPF__01 | ACOB  | 3 | -0.5 | 0.8333333 |\n",
       "\n"
      ],
      "text/plain": [
       "  name    esmu_cell_type module_size_ensg correlation pvalue   \n",
       "1 HPF__01 ABC            3                  NA               NA\n",
       "2 HPF__01 ACBG           3                 0.0        0.5000000\n",
       "3 HPF__01 ACMB           3                -0.5        0.8333333\n",
       "4 HPF__01 ACNT1          3                -1.0        1.0000000\n",
       "5 HPF__01 ACNT2          3                -0.5        0.8333333\n",
       "6 HPF__01 ACOB           3                -0.5        0.8333333"
      ]
     },
     "metadata": {},
     "output_type": "display_data"
    }
   ],
   "source": [
    "# compute correlation between cell type ESmu score and kMEs\n",
    "# this is a measure of specificity of expression (ESmu) and module-belonging (kME)\n",
    "# the correlation is a rough way to see if modules correspond closely to any cell type or not\n",
    "\n",
    "kme_esmu_corr = kmes %>%\n",
    "select(name, ortholog_ensg, pkMs) %>%\n",
    "filter(!is.na(ortholog_ensg)) %>%\n",
    "inner_join(esmu %>% rename(ortholog_ensg = gene), by='ortholog_ensg') %>%\n",
    "pivot_longer(cols = 4:last_col(), names_to = \"esmu_cell_type\", values_to = \"esmu\") %>%\n",
    "group_by(name, esmu_cell_type)  %>%\n",
    "  summarise(\n",
    "    module_size_ensg = length(pkMs),\n",
    "    correlation = tryCatch(\n",
    "      {\n",
    "        test <- cor.test(rank(pkMs, na.last = \"keep\"), rank(esmu, na.last = \"keep\"), \n",
    "               method = \"spearman\", alternative = \"greater\")\n",
    "        test$estimate\n",
    "      },\n",
    "      error = function(e) NA\n",
    "    ),\n",
    "    pvalue = tryCatch(\n",
    "      {\n",
    "        test <- cor.test(rank(pkMs, na.last = \"keep\"), rank(esmu, na.last = \"keep\"), \n",
    "               method = \"spearman\", alternative = \"greater\")\n",
    "        test$p.value\n",
    "      },\n",
    "      error = function(e) NA\n",
    "    ),\n",
    "    .groups = 'drop'\n",
    "  )\n",
    "\n",
    "\n",
    "kme_esmu_corr %>% head"
   ]
  },
  {
   "cell_type": "code",
   "execution_count": 5,
   "id": "7ca92d00",
   "metadata": {},
   "outputs": [
    {
     "data": {
      "text/html": [
       "<table class=\"dataframe\">\n",
       "<caption>A tibble: 6 × 6</caption>\n",
       "<thead>\n",
       "\t<tr><th scope=col>name</th><th scope=col>esmu_cell_type</th><th scope=col>module_size_ensg</th><th scope=col>correlation</th><th scope=col>pvalue</th><th scope=col>pvalue_bh</th></tr>\n",
       "\t<tr><th scope=col>&lt;chr&gt;</th><th scope=col>&lt;chr&gt;</th><th scope=col>&lt;int&gt;</th><th scope=col>&lt;dbl&gt;</th><th scope=col>&lt;dbl&gt;</th><th scope=col>&lt;dbl&gt;</th></tr>\n",
       "</thead>\n",
       "<tbody>\n",
       "\t<tr><td>ZI__18 </td><td>MOL1  </td><td>292</td><td>0.5801515</td><td>5.789673e-28</td><td>1.534263e-25</td></tr>\n",
       "\t<tr><td>ZI__18 </td><td>MOL2  </td><td>292</td><td>0.5733104</td><td>3.253094e-27</td><td>4.310349e-25</td></tr>\n",
       "\t<tr><td>ZI__18 </td><td>MFOL1 </td><td>292</td><td>0.5550409</td><td>2.695943e-25</td><td>2.381416e-23</td></tr>\n",
       "\t<tr><td>ZI__18 </td><td>MOL3  </td><td>292</td><td>0.5501672</td><td>8.371101e-25</td><td>5.545854e-23</td></tr>\n",
       "\t<tr><td>ZI__18 </td><td>MFOL2 </td><td>292</td><td>0.4898740</td><td>2.480713e-19</td><td>1.314778e-17</td></tr>\n",
       "\t<tr><td>HPF__32</td><td>DGGRC2</td><td>166</td><td>0.5410776</td><td>2.616289e-14</td><td>6.933167e-12</td></tr>\n",
       "</tbody>\n",
       "</table>\n"
      ],
      "text/latex": [
       "A tibble: 6 × 6\n",
       "\\begin{tabular}{llllll}\n",
       " name & esmu\\_cell\\_type & module\\_size\\_ensg & correlation & pvalue & pvalue\\_bh\\\\\n",
       " <chr> & <chr> & <int> & <dbl> & <dbl> & <dbl>\\\\\n",
       "\\hline\n",
       "\t ZI\\_\\_18  & MOL1   & 292 & 0.5801515 & 5.789673e-28 & 1.534263e-25\\\\\n",
       "\t ZI\\_\\_18  & MOL2   & 292 & 0.5733104 & 3.253094e-27 & 4.310349e-25\\\\\n",
       "\t ZI\\_\\_18  & MFOL1  & 292 & 0.5550409 & 2.695943e-25 & 2.381416e-23\\\\\n",
       "\t ZI\\_\\_18  & MOL3   & 292 & 0.5501672 & 8.371101e-25 & 5.545854e-23\\\\\n",
       "\t ZI\\_\\_18  & MFOL2  & 292 & 0.4898740 & 2.480713e-19 & 1.314778e-17\\\\\n",
       "\t HPF\\_\\_32 & DGGRC2 & 166 & 0.5410776 & 2.616289e-14 & 6.933167e-12\\\\\n",
       "\\end{tabular}\n"
      ],
      "text/markdown": [
       "\n",
       "A tibble: 6 × 6\n",
       "\n",
       "| name &lt;chr&gt; | esmu_cell_type &lt;chr&gt; | module_size_ensg &lt;int&gt; | correlation &lt;dbl&gt; | pvalue &lt;dbl&gt; | pvalue_bh &lt;dbl&gt; |\n",
       "|---|---|---|---|---|---|\n",
       "| ZI__18  | MOL1   | 292 | 0.5801515 | 5.789673e-28 | 1.534263e-25 |\n",
       "| ZI__18  | MOL2   | 292 | 0.5733104 | 3.253094e-27 | 4.310349e-25 |\n",
       "| ZI__18  | MFOL1  | 292 | 0.5550409 | 2.695943e-25 | 2.381416e-23 |\n",
       "| ZI__18  | MOL3   | 292 | 0.5501672 | 8.371101e-25 | 5.545854e-23 |\n",
       "| ZI__18  | MFOL2  | 292 | 0.4898740 | 2.480713e-19 | 1.314778e-17 |\n",
       "| HPF__32 | DGGRC2 | 166 | 0.5410776 | 2.616289e-14 | 6.933167e-12 |\n",
       "\n"
      ],
      "text/plain": [
       "  name    esmu_cell_type module_size_ensg correlation pvalue       pvalue_bh   \n",
       "1 ZI__18  MOL1           292              0.5801515   5.789673e-28 1.534263e-25\n",
       "2 ZI__18  MOL2           292              0.5733104   3.253094e-27 4.310349e-25\n",
       "3 ZI__18  MFOL1          292              0.5550409   2.695943e-25 2.381416e-23\n",
       "4 ZI__18  MOL3           292              0.5501672   8.371101e-25 5.545854e-23\n",
       "5 ZI__18  MFOL2          292              0.4898740   2.480713e-19 1.314778e-17\n",
       "6 HPF__32 DGGRC2         166              0.5410776   2.616289e-14 6.933167e-12"
      ]
     },
     "metadata": {},
     "output_type": "display_data"
    },
    {
     "name": "stderr",
     "output_type": "stream",
     "text": [
      "Warning message in dir.create(\"wgcna_output/renamed_tables/esmu_corr/\", recursive = TRUE):\n",
      "“'wgcna_output/renamed_tables/esmu_corr' already exists”\n"
     ]
    }
   ],
   "source": [
    "# munge and save correlation table\n",
    "kme_esmu_corr = kme_esmu_corr %>% \n",
    "arrange(pvalue) %>%\n",
    "group_by(name) %>%\n",
    "mutate(pvalue_bh = p.adjust(pvalue, method = \"BH\")) %>%\n",
    "ungroup\n",
    "\n",
    "kme_esmu_corr %>% head\n",
    "\n",
    "dir.create('wgcna_output/renamed_tables/esmu_corr/', recursive = TRUE)\n",
    "kme_esmu_corr %>% write_csv('wgcna_output/renamed_tables/esmu_corr/kme_esmu_corr.csv')"
   ]
  },
  {
   "cell_type": "code",
   "execution_count": 6,
   "id": "42f08668",
   "metadata": {},
   "outputs": [
    {
     "data": {
      "text/plain": [
       "R version 4.2.2 (2022-10-31)\n",
       "Platform: x86_64-conda-linux-gnu (64-bit)\n",
       "Running under: Red Hat Enterprise Linux\n",
       "\n",
       "Matrix products: default\n",
       "BLAS/LAPACK: /nfsdata/tools/anaconda/envs/nmq407/dmb/lib/libopenblasp-r0.3.21.so\n",
       "\n",
       "locale:\n",
       " [1] LC_CTYPE=en_GB.UTF-8       LC_NUMERIC=C              \n",
       " [3] LC_TIME=en_GB.UTF-8        LC_COLLATE=en_GB.UTF-8    \n",
       " [5] LC_MONETARY=en_GB.UTF-8    LC_MESSAGES=en_GB.UTF-8   \n",
       " [7] LC_PAPER=en_GB.UTF-8       LC_NAME=C                 \n",
       " [9] LC_ADDRESS=C               LC_TELEPHONE=C            \n",
       "[11] LC_MEASUREMENT=en_GB.UTF-8 LC_IDENTIFICATION=C       \n",
       "\n",
       "attached base packages:\n",
       "[1] stats     graphics  grDevices utils     datasets  methods   base     \n",
       "\n",
       "other attached packages:\n",
       " [1] broom_1.0.5     lubridate_1.9.2 forcats_1.0.0   stringr_1.5.0  \n",
       " [5] dplyr_1.1.2     purrr_1.0.1     readr_2.1.4     tidyr_1.3.0    \n",
       " [9] tibble_3.2.1    ggplot2_3.4.2   tidyverse_2.0.0\n",
       "\n",
       "loaded via a namespace (and not attached):\n",
       " [1] pillar_1.9.0     compiler_4.2.2   base64enc_0.1-3  tools_4.2.2     \n",
       " [5] bit_4.0.5        digest_0.6.31    uuid_1.1-0       timechange_0.2.0\n",
       " [9] jsonlite_1.8.5   evaluate_0.21    lifecycle_1.0.3  gtable_0.3.3    \n",
       "[13] pkgconfig_2.0.3  rlang_1.1.1      IRdisplay_1.1    cli_3.6.1       \n",
       "[17] parallel_4.2.2   IRkernel_1.3.2   fastmap_1.1.1    repr_1.1.6      \n",
       "[21] withr_2.5.0      hms_1.1.3        generics_0.1.3   vctrs_0.6.2     \n",
       "[25] bit64_4.0.5      grid_4.2.2       tidyselect_1.2.0 glue_1.6.2      \n",
       "[29] R6_2.5.1         fansi_1.0.4      vroom_1.6.3      pbdZMQ_0.3-9    \n",
       "[33] tzdb_0.4.0       magrittr_2.0.3   backports_1.4.1  scales_1.2.1    \n",
       "[37] htmltools_0.5.5  colorspace_2.1-0 renv_0.15.5      utf8_1.2.3      \n",
       "[41] stringi_1.7.12   munsell_0.5.0    crayon_1.5.2    "
      ]
     },
     "metadata": {},
     "output_type": "display_data"
    }
   ],
   "source": [
    "sessionInfo()"
   ]
  },
  {
   "cell_type": "code",
   "execution_count": null,
   "id": "b06bdfc7",
   "metadata": {},
   "outputs": [],
   "source": []
  }
 ],
 "metadata": {
  "kernelspec": {
   "display_name": "R [conda env:dmb]",
   "language": "R",
   "name": "conda-env-dmb-r"
  },
  "language_info": {
   "codemirror_mode": "r",
   "file_extension": ".r",
   "mimetype": "text/x-r-source",
   "name": "R",
   "pygments_lexer": "r",
   "version": "4.2.2"
  }
 },
 "nbformat": 4,
 "nbformat_minor": 5
}
