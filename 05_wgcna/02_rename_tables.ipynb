{
 "cells": [
  {
   "cell_type": "code",
   "execution_count": 13,
   "id": "0b599f2e",
   "metadata": {},
   "outputs": [],
   "source": [
    "library(tidyverse)\n",
    "library(gprofiler2)"
   ]
  },
  {
   "cell_type": "code",
   "execution_count": 2,
   "id": "fa4cc33b",
   "metadata": {},
   "outputs": [],
   "source": [
    "dir.create('wgcna_output/renamed_tables', recursive = TRUE, showWarnings = FALSE)"
   ]
  },
  {
   "cell_type": "code",
   "execution_count": 8,
   "id": "cbea3639",
   "metadata": {},
   "outputs": [
    {
     "name": "stderr",
     "output_type": "stream",
     "text": [
      "\u001b[1mRows: \u001b[22m\u001b[34m144\u001b[39m \u001b[1mColumns: \u001b[22m\u001b[34m386\u001b[39m\n",
      "\u001b[36m──\u001b[39m \u001b[1mColumn specification\u001b[22m \u001b[36m────────────────────────────────────────────────────────\u001b[39m\n",
      "\u001b[1mDelimiter:\u001b[22m \",\"\n",
      "\u001b[31mchr\u001b[39m   (3): data, cell_cluster, cell_id\n",
      "\u001b[32mdbl\u001b[39m (383): HPF__bisque2, HPF__blanchedalmond, HPF__blue4, HPF__cadetblue4, H...\n",
      "\n",
      "\u001b[36mℹ\u001b[39m Use `spec()` to retrieve the full column specification for this data.\n",
      "\u001b[36mℹ\u001b[39m Specify the column types or set `show_col_types = FALSE` to quiet this message.\n"
     ]
    },
    {
     "data": {
      "text/html": [
       "<table class=\"dataframe\">\n",
       "<caption>A tibble: 6 × 386</caption>\n",
       "<thead>\n",
       "\t<tr><th scope=col>data</th><th scope=col>cell_cluster</th><th scope=col>cell_id</th><th scope=col>HPF__bisque2</th><th scope=col>HPF__blanchedalmond</th><th scope=col>HPF__blue4</th><th scope=col>HPF__cadetblue4</th><th scope=col>HPF__chocolate</th><th scope=col>HPF__cornflowerblue</th><th scope=col>HPF__cyan3</th><th scope=col>⋯</th><th scope=col>ZI__royalblue3</th><th scope=col>ZI__salmon3</th><th scope=col>ZI__sienna</th><th scope=col>ZI__steelblue1</th><th scope=col>ZI__thistle1</th><th scope=col>ZI__thistle2</th><th scope=col>ZI__thistle3</th><th scope=col>ZI__thistle4</th><th scope=col>ZI__tomato4</th><th scope=col>ZI__yellow3</th></tr>\n",
       "\t<tr><th scope=col>&lt;chr&gt;</th><th scope=col>&lt;chr&gt;</th><th scope=col>&lt;chr&gt;</th><th scope=col>&lt;dbl&gt;</th><th scope=col>&lt;dbl&gt;</th><th scope=col>&lt;dbl&gt;</th><th scope=col>&lt;dbl&gt;</th><th scope=col>&lt;dbl&gt;</th><th scope=col>&lt;dbl&gt;</th><th scope=col>&lt;dbl&gt;</th><th scope=col>⋯</th><th scope=col>&lt;dbl&gt;</th><th scope=col>&lt;dbl&gt;</th><th scope=col>&lt;dbl&gt;</th><th scope=col>&lt;dbl&gt;</th><th scope=col>&lt;dbl&gt;</th><th scope=col>&lt;dbl&gt;</th><th scope=col>&lt;dbl&gt;</th><th scope=col>&lt;dbl&gt;</th><th scope=col>&lt;dbl&gt;</th><th scope=col>&lt;dbl&gt;</th></tr>\n",
       "</thead>\n",
       "<tbody>\n",
       "\t<tr><td>dmb</td><td>HY</td><td>S0010_01_chow_HY</td><td>0.05197933</td><td>0.03023810</td><td>0.1824172</td><td>0.1229980</td><td>-0.05775205</td><td> 0.019439584</td><td>-0.06125762</td><td>⋯</td><td>-0.08595527</td><td>0.05252190</td><td>-0.05822008</td><td>0.06567769</td><td> 0.036785185</td><td> 0.0102144634</td><td>0.10537119</td><td>0.11220870</td><td>-0.04791984</td><td>0.020875004</td></tr>\n",
       "\t<tr><td>dmb</td><td>HY</td><td>S0010_02_chow_HY</td><td>0.08876762</td><td>0.08017922</td><td>0.1459963</td><td>0.1170462</td><td>-0.03252780</td><td>-0.004745673</td><td>-0.05191100</td><td>⋯</td><td>-0.11281907</td><td>0.02927096</td><td>-0.02412367</td><td>0.02603893</td><td> 0.007287426</td><td>-0.0017344272</td><td>0.10817653</td><td>0.11961064</td><td>-0.04316019</td><td>0.006892997</td></tr>\n",
       "\t<tr><td>dmb</td><td>HY</td><td>S0010_03_chow_HY</td><td>0.07109426</td><td>0.02853630</td><td>0.1832191</td><td>0.1384336</td><td>-0.06336754</td><td>-0.032457115</td><td>-0.06025051</td><td>⋯</td><td>-0.10252465</td><td>0.06811403</td><td>-0.04506138</td><td>0.01064958</td><td> 0.021634418</td><td>-0.0002412614</td><td>0.07374108</td><td>0.10598614</td><td>-0.02872247</td><td>0.025098740</td></tr>\n",
       "\t<tr><td>dmb</td><td>HY</td><td>S0010_04_chow_HY</td><td>0.02948085</td><td>0.06371331</td><td>0.1535754</td><td>0.1107229</td><td>-0.03764149</td><td> 0.025134355</td><td>-0.05945944</td><td>⋯</td><td>-0.05751049</td><td>0.03972461</td><td>-0.01765908</td><td>0.05303416</td><td>-0.004217487</td><td> 0.0049177488</td><td>0.06565093</td><td>0.01816232</td><td>-0.03737867</td><td>0.014236332</td></tr>\n",
       "\t<tr><td>dmb</td><td>HY</td><td>S0010_05_chow_HY</td><td>0.11411558</td><td>0.03807216</td><td>0.1615871</td><td>0.1345847</td><td>-0.06702112</td><td> 0.007702094</td><td>-0.05492529</td><td>⋯</td><td>-0.15425467</td><td>0.03670603</td><td>-0.01827709</td><td>0.01769293</td><td>-0.020943932</td><td>-0.0073797921</td><td>0.09252465</td><td>0.09507013</td><td>-0.02601267</td><td>0.019362943</td></tr>\n",
       "\t<tr><td>dmb</td><td>HY</td><td>S0010_06_chow_HY</td><td>0.02021261</td><td>0.07189122</td><td>0.1562818</td><td>0.1019575</td><td>-0.03508683</td><td>-0.025868732</td><td>-0.07505565</td><td>⋯</td><td>-0.09517898</td><td>0.05157318</td><td>-0.02545144</td><td>0.02872648</td><td>-0.025390663</td><td> 0.0255168968</td><td>0.07634631</td><td>0.05995981</td><td>-0.04782112</td><td>0.008990742</td></tr>\n",
       "</tbody>\n",
       "</table>\n"
      ],
      "text/latex": [
       "A tibble: 6 × 386\n",
       "\\begin{tabular}{lllllllllllllllllllll}\n",
       " data & cell\\_cluster & cell\\_id & HPF\\_\\_bisque2 & HPF\\_\\_blanchedalmond & HPF\\_\\_blue4 & HPF\\_\\_cadetblue4 & HPF\\_\\_chocolate & HPF\\_\\_cornflowerblue & HPF\\_\\_cyan3 & ⋯ & ZI\\_\\_royalblue3 & ZI\\_\\_salmon3 & ZI\\_\\_sienna & ZI\\_\\_steelblue1 & ZI\\_\\_thistle1 & ZI\\_\\_thistle2 & ZI\\_\\_thistle3 & ZI\\_\\_thistle4 & ZI\\_\\_tomato4 & ZI\\_\\_yellow3\\\\\n",
       " <chr> & <chr> & <chr> & <dbl> & <dbl> & <dbl> & <dbl> & <dbl> & <dbl> & <dbl> & ⋯ & <dbl> & <dbl> & <dbl> & <dbl> & <dbl> & <dbl> & <dbl> & <dbl> & <dbl> & <dbl>\\\\\n",
       "\\hline\n",
       "\t dmb & HY & S0010\\_01\\_chow\\_HY & 0.05197933 & 0.03023810 & 0.1824172 & 0.1229980 & -0.05775205 &  0.019439584 & -0.06125762 & ⋯ & -0.08595527 & 0.05252190 & -0.05822008 & 0.06567769 &  0.036785185 &  0.0102144634 & 0.10537119 & 0.11220870 & -0.04791984 & 0.020875004\\\\\n",
       "\t dmb & HY & S0010\\_02\\_chow\\_HY & 0.08876762 & 0.08017922 & 0.1459963 & 0.1170462 & -0.03252780 & -0.004745673 & -0.05191100 & ⋯ & -0.11281907 & 0.02927096 & -0.02412367 & 0.02603893 &  0.007287426 & -0.0017344272 & 0.10817653 & 0.11961064 & -0.04316019 & 0.006892997\\\\\n",
       "\t dmb & HY & S0010\\_03\\_chow\\_HY & 0.07109426 & 0.02853630 & 0.1832191 & 0.1384336 & -0.06336754 & -0.032457115 & -0.06025051 & ⋯ & -0.10252465 & 0.06811403 & -0.04506138 & 0.01064958 &  0.021634418 & -0.0002412614 & 0.07374108 & 0.10598614 & -0.02872247 & 0.025098740\\\\\n",
       "\t dmb & HY & S0010\\_04\\_chow\\_HY & 0.02948085 & 0.06371331 & 0.1535754 & 0.1107229 & -0.03764149 &  0.025134355 & -0.05945944 & ⋯ & -0.05751049 & 0.03972461 & -0.01765908 & 0.05303416 & -0.004217487 &  0.0049177488 & 0.06565093 & 0.01816232 & -0.03737867 & 0.014236332\\\\\n",
       "\t dmb & HY & S0010\\_05\\_chow\\_HY & 0.11411558 & 0.03807216 & 0.1615871 & 0.1345847 & -0.06702112 &  0.007702094 & -0.05492529 & ⋯ & -0.15425467 & 0.03670603 & -0.01827709 & 0.01769293 & -0.020943932 & -0.0073797921 & 0.09252465 & 0.09507013 & -0.02601267 & 0.019362943\\\\\n",
       "\t dmb & HY & S0010\\_06\\_chow\\_HY & 0.02021261 & 0.07189122 & 0.1562818 & 0.1019575 & -0.03508683 & -0.025868732 & -0.07505565 & ⋯ & -0.09517898 & 0.05157318 & -0.02545144 & 0.02872648 & -0.025390663 &  0.0255168968 & 0.07634631 & 0.05995981 & -0.04782112 & 0.008990742\\\\\n",
       "\\end{tabular}\n"
      ],
      "text/markdown": [
       "\n",
       "A tibble: 6 × 386\n",
       "\n",
       "| data &lt;chr&gt; | cell_cluster &lt;chr&gt; | cell_id &lt;chr&gt; | HPF__bisque2 &lt;dbl&gt; | HPF__blanchedalmond &lt;dbl&gt; | HPF__blue4 &lt;dbl&gt; | HPF__cadetblue4 &lt;dbl&gt; | HPF__chocolate &lt;dbl&gt; | HPF__cornflowerblue &lt;dbl&gt; | HPF__cyan3 &lt;dbl&gt; | ⋯ ⋯ | ZI__royalblue3 &lt;dbl&gt; | ZI__salmon3 &lt;dbl&gt; | ZI__sienna &lt;dbl&gt; | ZI__steelblue1 &lt;dbl&gt; | ZI__thistle1 &lt;dbl&gt; | ZI__thistle2 &lt;dbl&gt; | ZI__thistle3 &lt;dbl&gt; | ZI__thistle4 &lt;dbl&gt; | ZI__tomato4 &lt;dbl&gt; | ZI__yellow3 &lt;dbl&gt; |\n",
       "|---|---|---|---|---|---|---|---|---|---|---|---|---|---|---|---|---|---|---|---|---|\n",
       "| dmb | HY | S0010_01_chow_HY | 0.05197933 | 0.03023810 | 0.1824172 | 0.1229980 | -0.05775205 |  0.019439584 | -0.06125762 | ⋯ | -0.08595527 | 0.05252190 | -0.05822008 | 0.06567769 |  0.036785185 |  0.0102144634 | 0.10537119 | 0.11220870 | -0.04791984 | 0.020875004 |\n",
       "| dmb | HY | S0010_02_chow_HY | 0.08876762 | 0.08017922 | 0.1459963 | 0.1170462 | -0.03252780 | -0.004745673 | -0.05191100 | ⋯ | -0.11281907 | 0.02927096 | -0.02412367 | 0.02603893 |  0.007287426 | -0.0017344272 | 0.10817653 | 0.11961064 | -0.04316019 | 0.006892997 |\n",
       "| dmb | HY | S0010_03_chow_HY | 0.07109426 | 0.02853630 | 0.1832191 | 0.1384336 | -0.06336754 | -0.032457115 | -0.06025051 | ⋯ | -0.10252465 | 0.06811403 | -0.04506138 | 0.01064958 |  0.021634418 | -0.0002412614 | 0.07374108 | 0.10598614 | -0.02872247 | 0.025098740 |\n",
       "| dmb | HY | S0010_04_chow_HY | 0.02948085 | 0.06371331 | 0.1535754 | 0.1107229 | -0.03764149 |  0.025134355 | -0.05945944 | ⋯ | -0.05751049 | 0.03972461 | -0.01765908 | 0.05303416 | -0.004217487 |  0.0049177488 | 0.06565093 | 0.01816232 | -0.03737867 | 0.014236332 |\n",
       "| dmb | HY | S0010_05_chow_HY | 0.11411558 | 0.03807216 | 0.1615871 | 0.1345847 | -0.06702112 |  0.007702094 | -0.05492529 | ⋯ | -0.15425467 | 0.03670603 | -0.01827709 | 0.01769293 | -0.020943932 | -0.0073797921 | 0.09252465 | 0.09507013 | -0.02601267 | 0.019362943 |\n",
       "| dmb | HY | S0010_06_chow_HY | 0.02021261 | 0.07189122 | 0.1562818 | 0.1019575 | -0.03508683 | -0.025868732 | -0.07505565 | ⋯ | -0.09517898 | 0.05157318 | -0.02545144 | 0.02872648 | -0.025390663 |  0.0255168968 | 0.07634631 | 0.05995981 | -0.04782112 | 0.008990742 |\n",
       "\n"
      ],
      "text/plain": [
       "  data cell_cluster cell_id          HPF__bisque2 HPF__blanchedalmond\n",
       "1 dmb  HY           S0010_01_chow_HY 0.05197933   0.03023810         \n",
       "2 dmb  HY           S0010_02_chow_HY 0.08876762   0.08017922         \n",
       "3 dmb  HY           S0010_03_chow_HY 0.07109426   0.02853630         \n",
       "4 dmb  HY           S0010_04_chow_HY 0.02948085   0.06371331         \n",
       "5 dmb  HY           S0010_05_chow_HY 0.11411558   0.03807216         \n",
       "6 dmb  HY           S0010_06_chow_HY 0.02021261   0.07189122         \n",
       "  HPF__blue4 HPF__cadetblue4 HPF__chocolate HPF__cornflowerblue HPF__cyan3  ⋯\n",
       "1 0.1824172  0.1229980       -0.05775205     0.019439584        -0.06125762 ⋯\n",
       "2 0.1459963  0.1170462       -0.03252780    -0.004745673        -0.05191100 ⋯\n",
       "3 0.1832191  0.1384336       -0.06336754    -0.032457115        -0.06025051 ⋯\n",
       "4 0.1535754  0.1107229       -0.03764149     0.025134355        -0.05945944 ⋯\n",
       "5 0.1615871  0.1345847       -0.06702112     0.007702094        -0.05492529 ⋯\n",
       "6 0.1562818  0.1019575       -0.03508683    -0.025868732        -0.07505565 ⋯\n",
       "  ZI__royalblue3 ZI__salmon3 ZI__sienna  ZI__steelblue1 ZI__thistle1\n",
       "1 -0.08595527    0.05252190  -0.05822008 0.06567769      0.036785185\n",
       "2 -0.11281907    0.02927096  -0.02412367 0.02603893      0.007287426\n",
       "3 -0.10252465    0.06811403  -0.04506138 0.01064958      0.021634418\n",
       "4 -0.05751049    0.03972461  -0.01765908 0.05303416     -0.004217487\n",
       "5 -0.15425467    0.03670603  -0.01827709 0.01769293     -0.020943932\n",
       "6 -0.09517898    0.05157318  -0.02545144 0.02872648     -0.025390663\n",
       "  ZI__thistle2  ZI__thistle3 ZI__thistle4 ZI__tomato4 ZI__yellow3\n",
       "1  0.0102144634 0.10537119   0.11220870   -0.04791984 0.020875004\n",
       "2 -0.0017344272 0.10817653   0.11961064   -0.04316019 0.006892997\n",
       "3 -0.0002412614 0.07374108   0.10598614   -0.02872247 0.025098740\n",
       "4  0.0049177488 0.06565093   0.01816232   -0.03737867 0.014236332\n",
       "5 -0.0073797921 0.09252465   0.09507013   -0.02601267 0.019362943\n",
       "6  0.0255168968 0.07634631   0.05995981   -0.04782112 0.008990742"
      ]
     },
     "metadata": {},
     "output_type": "display_data"
    }
   ],
   "source": [
    "kme = read_csv('wgcna_output/tables/dmb_ds4_mcs20_pF_kME_cellModEmbed.csv.gz')\n",
    "kme %>% head"
   ]
  },
  {
   "cell_type": "code",
   "execution_count": 9,
   "id": "1a6b16de",
   "metadata": {},
   "outputs": [
    {
     "data": {
      "text/html": [
       "<table class=\"dataframe\">\n",
       "<caption>A grouped_df: 6 × 6</caption>\n",
       "<thead>\n",
       "\t<tr><th scope=col>index</th><th scope=col>old_name</th><th scope=col>region</th><th scope=col>module</th><th scope=col>row_number</th><th scope=col>new_name</th></tr>\n",
       "\t<tr><th scope=col>&lt;int&gt;</th><th scope=col>&lt;chr&gt;</th><th scope=col>&lt;chr&gt;</th><th scope=col>&lt;chr&gt;</th><th scope=col>&lt;chr&gt;</th><th scope=col>&lt;chr&gt;</th></tr>\n",
       "</thead>\n",
       "<tbody>\n",
       "\t<tr><td>1</td><td>HPF__bisque2       </td><td>HPF</td><td>bisque2       </td><td>01</td><td>HPF__01</td></tr>\n",
       "\t<tr><td>2</td><td>HPF__blanchedalmond</td><td>HPF</td><td>blanchedalmond</td><td>02</td><td>HPF__02</td></tr>\n",
       "\t<tr><td>3</td><td>HPF__blue4         </td><td>HPF</td><td>blue4         </td><td>03</td><td>HPF__03</td></tr>\n",
       "\t<tr><td>4</td><td>HPF__cadetblue4    </td><td>HPF</td><td>cadetblue4    </td><td>04</td><td>HPF__04</td></tr>\n",
       "\t<tr><td>5</td><td>HPF__chocolate     </td><td>HPF</td><td>chocolate     </td><td>05</td><td>HPF__05</td></tr>\n",
       "\t<tr><td>6</td><td>HPF__cornflowerblue</td><td>HPF</td><td>cornflowerblue</td><td>06</td><td>HPF__06</td></tr>\n",
       "</tbody>\n",
       "</table>\n"
      ],
      "text/latex": [
       "A grouped\\_df: 6 × 6\n",
       "\\begin{tabular}{llllll}\n",
       " index & old\\_name & region & module & row\\_number & new\\_name\\\\\n",
       " <int> & <chr> & <chr> & <chr> & <chr> & <chr>\\\\\n",
       "\\hline\n",
       "\t 1 & HPF\\_\\_bisque2        & HPF & bisque2        & 01 & HPF\\_\\_01\\\\\n",
       "\t 2 & HPF\\_\\_blanchedalmond & HPF & blanchedalmond & 02 & HPF\\_\\_02\\\\\n",
       "\t 3 & HPF\\_\\_blue4          & HPF & blue4          & 03 & HPF\\_\\_03\\\\\n",
       "\t 4 & HPF\\_\\_cadetblue4     & HPF & cadetblue4     & 04 & HPF\\_\\_04\\\\\n",
       "\t 5 & HPF\\_\\_chocolate      & HPF & chocolate      & 05 & HPF\\_\\_05\\\\\n",
       "\t 6 & HPF\\_\\_cornflowerblue & HPF & cornflowerblue & 06 & HPF\\_\\_06\\\\\n",
       "\\end{tabular}\n"
      ],
      "text/markdown": [
       "\n",
       "A grouped_df: 6 × 6\n",
       "\n",
       "| index &lt;int&gt; | old_name &lt;chr&gt; | region &lt;chr&gt; | module &lt;chr&gt; | row_number &lt;chr&gt; | new_name &lt;chr&gt; |\n",
       "|---|---|---|---|---|---|\n",
       "| 1 | HPF__bisque2        | HPF | bisque2        | 01 | HPF__01 |\n",
       "| 2 | HPF__blanchedalmond | HPF | blanchedalmond | 02 | HPF__02 |\n",
       "| 3 | HPF__blue4          | HPF | blue4          | 03 | HPF__03 |\n",
       "| 4 | HPF__cadetblue4     | HPF | cadetblue4     | 04 | HPF__04 |\n",
       "| 5 | HPF__chocolate      | HPF | chocolate      | 05 | HPF__05 |\n",
       "| 6 | HPF__cornflowerblue | HPF | cornflowerblue | 06 | HPF__06 |\n",
       "\n"
      ],
      "text/plain": [
       "  index old_name            region module         row_number new_name\n",
       "1 1     HPF__bisque2        HPF    bisque2        01         HPF__01 \n",
       "2 2     HPF__blanchedalmond HPF    blanchedalmond 02         HPF__02 \n",
       "3 3     HPF__blue4          HPF    blue4          03         HPF__03 \n",
       "4 4     HPF__cadetblue4     HPF    cadetblue4     04         HPF__04 \n",
       "5 5     HPF__chocolate      HPF    chocolate      05         HPF__05 \n",
       "6 6     HPF__cornflowerblue HPF    cornflowerblue 06         HPF__06 "
      ]
     },
     "metadata": {},
     "output_type": "display_data"
    }
   ],
   "source": [
    "modules = colnames(kme) %>%\n",
    "`[`(-(1:3)) %>%\n",
    "enframe %>%\n",
    "rename(index = name, old_name = value) %>%\n",
    "separate(old_name, into = c('region', 'module'), sep = '__', remove = FALSE) %>%\n",
    "group_by(region) %>%\n",
    "mutate(row_number = row_number()) %>%\n",
    "mutate(row_number = str_pad(as.character(row_number), width=2, pad=\"0\",side = 'left')) %>% \n",
    "mutate(new_name = paste0(region, '__', row_number))\n",
    "\n",
    "modules %>% head\n",
    "modules %>% write_csv('wgcna_output/renamed_tables/module_mappings.csv')"
   ]
  },
  {
   "cell_type": "code",
   "execution_count": 10,
   "id": "85f713c8",
   "metadata": {},
   "outputs": [
    {
     "data": {
      "text/html": [
       "<table class=\"dataframe\">\n",
       "<caption>A tibble: 6 × 386</caption>\n",
       "<thead>\n",
       "\t<tr><th scope=col>data</th><th scope=col>region</th><th scope=col>sample</th><th scope=col>HPF__01</th><th scope=col>HPF__02</th><th scope=col>HPF__03</th><th scope=col>HPF__04</th><th scope=col>HPF__05</th><th scope=col>HPF__06</th><th scope=col>HPF__07</th><th scope=col>⋯</th><th scope=col>ZI__39</th><th scope=col>ZI__40</th><th scope=col>ZI__41</th><th scope=col>ZI__42</th><th scope=col>ZI__43</th><th scope=col>ZI__44</th><th scope=col>ZI__45</th><th scope=col>ZI__46</th><th scope=col>ZI__47</th><th scope=col>ZI__48</th></tr>\n",
       "\t<tr><th scope=col>&lt;chr&gt;</th><th scope=col>&lt;chr&gt;</th><th scope=col>&lt;chr&gt;</th><th scope=col>&lt;dbl&gt;</th><th scope=col>&lt;dbl&gt;</th><th scope=col>&lt;dbl&gt;</th><th scope=col>&lt;dbl&gt;</th><th scope=col>&lt;dbl&gt;</th><th scope=col>&lt;dbl&gt;</th><th scope=col>&lt;dbl&gt;</th><th scope=col>⋯</th><th scope=col>&lt;dbl&gt;</th><th scope=col>&lt;dbl&gt;</th><th scope=col>&lt;dbl&gt;</th><th scope=col>&lt;dbl&gt;</th><th scope=col>&lt;dbl&gt;</th><th scope=col>&lt;dbl&gt;</th><th scope=col>&lt;dbl&gt;</th><th scope=col>&lt;dbl&gt;</th><th scope=col>&lt;dbl&gt;</th><th scope=col>&lt;dbl&gt;</th></tr>\n",
       "</thead>\n",
       "<tbody>\n",
       "\t<tr><td>dmb</td><td>HY</td><td>S0010_01_chow_HY</td><td>0.05197933</td><td>0.03023810</td><td>0.1824172</td><td>0.1229980</td><td>-0.05775205</td><td> 0.019439584</td><td>-0.06125762</td><td>⋯</td><td>-0.08595527</td><td>0.05252190</td><td>-0.05822008</td><td>0.06567769</td><td> 0.036785185</td><td> 0.0102144634</td><td>0.10537119</td><td>0.11220870</td><td>-0.04791984</td><td>0.020875004</td></tr>\n",
       "\t<tr><td>dmb</td><td>HY</td><td>S0010_02_chow_HY</td><td>0.08876762</td><td>0.08017922</td><td>0.1459963</td><td>0.1170462</td><td>-0.03252780</td><td>-0.004745673</td><td>-0.05191100</td><td>⋯</td><td>-0.11281907</td><td>0.02927096</td><td>-0.02412367</td><td>0.02603893</td><td> 0.007287426</td><td>-0.0017344272</td><td>0.10817653</td><td>0.11961064</td><td>-0.04316019</td><td>0.006892997</td></tr>\n",
       "\t<tr><td>dmb</td><td>HY</td><td>S0010_03_chow_HY</td><td>0.07109426</td><td>0.02853630</td><td>0.1832191</td><td>0.1384336</td><td>-0.06336754</td><td>-0.032457115</td><td>-0.06025051</td><td>⋯</td><td>-0.10252465</td><td>0.06811403</td><td>-0.04506138</td><td>0.01064958</td><td> 0.021634418</td><td>-0.0002412614</td><td>0.07374108</td><td>0.10598614</td><td>-0.02872247</td><td>0.025098740</td></tr>\n",
       "\t<tr><td>dmb</td><td>HY</td><td>S0010_04_chow_HY</td><td>0.02948085</td><td>0.06371331</td><td>0.1535754</td><td>0.1107229</td><td>-0.03764149</td><td> 0.025134355</td><td>-0.05945944</td><td>⋯</td><td>-0.05751049</td><td>0.03972461</td><td>-0.01765908</td><td>0.05303416</td><td>-0.004217487</td><td> 0.0049177488</td><td>0.06565093</td><td>0.01816232</td><td>-0.03737867</td><td>0.014236332</td></tr>\n",
       "\t<tr><td>dmb</td><td>HY</td><td>S0010_05_chow_HY</td><td>0.11411558</td><td>0.03807216</td><td>0.1615871</td><td>0.1345847</td><td>-0.06702112</td><td> 0.007702094</td><td>-0.05492529</td><td>⋯</td><td>-0.15425467</td><td>0.03670603</td><td>-0.01827709</td><td>0.01769293</td><td>-0.020943932</td><td>-0.0073797921</td><td>0.09252465</td><td>0.09507013</td><td>-0.02601267</td><td>0.019362943</td></tr>\n",
       "\t<tr><td>dmb</td><td>HY</td><td>S0010_06_chow_HY</td><td>0.02021261</td><td>0.07189122</td><td>0.1562818</td><td>0.1019575</td><td>-0.03508683</td><td>-0.025868732</td><td>-0.07505565</td><td>⋯</td><td>-0.09517898</td><td>0.05157318</td><td>-0.02545144</td><td>0.02872648</td><td>-0.025390663</td><td> 0.0255168968</td><td>0.07634631</td><td>0.05995981</td><td>-0.04782112</td><td>0.008990742</td></tr>\n",
       "</tbody>\n",
       "</table>\n"
      ],
      "text/latex": [
       "A tibble: 6 × 386\n",
       "\\begin{tabular}{lllllllllllllllllllll}\n",
       " data & region & sample & HPF\\_\\_01 & HPF\\_\\_02 & HPF\\_\\_03 & HPF\\_\\_04 & HPF\\_\\_05 & HPF\\_\\_06 & HPF\\_\\_07 & ⋯ & ZI\\_\\_39 & ZI\\_\\_40 & ZI\\_\\_41 & ZI\\_\\_42 & ZI\\_\\_43 & ZI\\_\\_44 & ZI\\_\\_45 & ZI\\_\\_46 & ZI\\_\\_47 & ZI\\_\\_48\\\\\n",
       " <chr> & <chr> & <chr> & <dbl> & <dbl> & <dbl> & <dbl> & <dbl> & <dbl> & <dbl> & ⋯ & <dbl> & <dbl> & <dbl> & <dbl> & <dbl> & <dbl> & <dbl> & <dbl> & <dbl> & <dbl>\\\\\n",
       "\\hline\n",
       "\t dmb & HY & S0010\\_01\\_chow\\_HY & 0.05197933 & 0.03023810 & 0.1824172 & 0.1229980 & -0.05775205 &  0.019439584 & -0.06125762 & ⋯ & -0.08595527 & 0.05252190 & -0.05822008 & 0.06567769 &  0.036785185 &  0.0102144634 & 0.10537119 & 0.11220870 & -0.04791984 & 0.020875004\\\\\n",
       "\t dmb & HY & S0010\\_02\\_chow\\_HY & 0.08876762 & 0.08017922 & 0.1459963 & 0.1170462 & -0.03252780 & -0.004745673 & -0.05191100 & ⋯ & -0.11281907 & 0.02927096 & -0.02412367 & 0.02603893 &  0.007287426 & -0.0017344272 & 0.10817653 & 0.11961064 & -0.04316019 & 0.006892997\\\\\n",
       "\t dmb & HY & S0010\\_03\\_chow\\_HY & 0.07109426 & 0.02853630 & 0.1832191 & 0.1384336 & -0.06336754 & -0.032457115 & -0.06025051 & ⋯ & -0.10252465 & 0.06811403 & -0.04506138 & 0.01064958 &  0.021634418 & -0.0002412614 & 0.07374108 & 0.10598614 & -0.02872247 & 0.025098740\\\\\n",
       "\t dmb & HY & S0010\\_04\\_chow\\_HY & 0.02948085 & 0.06371331 & 0.1535754 & 0.1107229 & -0.03764149 &  0.025134355 & -0.05945944 & ⋯ & -0.05751049 & 0.03972461 & -0.01765908 & 0.05303416 & -0.004217487 &  0.0049177488 & 0.06565093 & 0.01816232 & -0.03737867 & 0.014236332\\\\\n",
       "\t dmb & HY & S0010\\_05\\_chow\\_HY & 0.11411558 & 0.03807216 & 0.1615871 & 0.1345847 & -0.06702112 &  0.007702094 & -0.05492529 & ⋯ & -0.15425467 & 0.03670603 & -0.01827709 & 0.01769293 & -0.020943932 & -0.0073797921 & 0.09252465 & 0.09507013 & -0.02601267 & 0.019362943\\\\\n",
       "\t dmb & HY & S0010\\_06\\_chow\\_HY & 0.02021261 & 0.07189122 & 0.1562818 & 0.1019575 & -0.03508683 & -0.025868732 & -0.07505565 & ⋯ & -0.09517898 & 0.05157318 & -0.02545144 & 0.02872648 & -0.025390663 &  0.0255168968 & 0.07634631 & 0.05995981 & -0.04782112 & 0.008990742\\\\\n",
       "\\end{tabular}\n"
      ],
      "text/markdown": [
       "\n",
       "A tibble: 6 × 386\n",
       "\n",
       "| data &lt;chr&gt; | region &lt;chr&gt; | sample &lt;chr&gt; | HPF__01 &lt;dbl&gt; | HPF__02 &lt;dbl&gt; | HPF__03 &lt;dbl&gt; | HPF__04 &lt;dbl&gt; | HPF__05 &lt;dbl&gt; | HPF__06 &lt;dbl&gt; | HPF__07 &lt;dbl&gt; | ⋯ ⋯ | ZI__39 &lt;dbl&gt; | ZI__40 &lt;dbl&gt; | ZI__41 &lt;dbl&gt; | ZI__42 &lt;dbl&gt; | ZI__43 &lt;dbl&gt; | ZI__44 &lt;dbl&gt; | ZI__45 &lt;dbl&gt; | ZI__46 &lt;dbl&gt; | ZI__47 &lt;dbl&gt; | ZI__48 &lt;dbl&gt; |\n",
       "|---|---|---|---|---|---|---|---|---|---|---|---|---|---|---|---|---|---|---|---|---|\n",
       "| dmb | HY | S0010_01_chow_HY | 0.05197933 | 0.03023810 | 0.1824172 | 0.1229980 | -0.05775205 |  0.019439584 | -0.06125762 | ⋯ | -0.08595527 | 0.05252190 | -0.05822008 | 0.06567769 |  0.036785185 |  0.0102144634 | 0.10537119 | 0.11220870 | -0.04791984 | 0.020875004 |\n",
       "| dmb | HY | S0010_02_chow_HY | 0.08876762 | 0.08017922 | 0.1459963 | 0.1170462 | -0.03252780 | -0.004745673 | -0.05191100 | ⋯ | -0.11281907 | 0.02927096 | -0.02412367 | 0.02603893 |  0.007287426 | -0.0017344272 | 0.10817653 | 0.11961064 | -0.04316019 | 0.006892997 |\n",
       "| dmb | HY | S0010_03_chow_HY | 0.07109426 | 0.02853630 | 0.1832191 | 0.1384336 | -0.06336754 | -0.032457115 | -0.06025051 | ⋯ | -0.10252465 | 0.06811403 | -0.04506138 | 0.01064958 |  0.021634418 | -0.0002412614 | 0.07374108 | 0.10598614 | -0.02872247 | 0.025098740 |\n",
       "| dmb | HY | S0010_04_chow_HY | 0.02948085 | 0.06371331 | 0.1535754 | 0.1107229 | -0.03764149 |  0.025134355 | -0.05945944 | ⋯ | -0.05751049 | 0.03972461 | -0.01765908 | 0.05303416 | -0.004217487 |  0.0049177488 | 0.06565093 | 0.01816232 | -0.03737867 | 0.014236332 |\n",
       "| dmb | HY | S0010_05_chow_HY | 0.11411558 | 0.03807216 | 0.1615871 | 0.1345847 | -0.06702112 |  0.007702094 | -0.05492529 | ⋯ | -0.15425467 | 0.03670603 | -0.01827709 | 0.01769293 | -0.020943932 | -0.0073797921 | 0.09252465 | 0.09507013 | -0.02601267 | 0.019362943 |\n",
       "| dmb | HY | S0010_06_chow_HY | 0.02021261 | 0.07189122 | 0.1562818 | 0.1019575 | -0.03508683 | -0.025868732 | -0.07505565 | ⋯ | -0.09517898 | 0.05157318 | -0.02545144 | 0.02872648 | -0.025390663 |  0.0255168968 | 0.07634631 | 0.05995981 | -0.04782112 | 0.008990742 |\n",
       "\n"
      ],
      "text/plain": [
       "  data region sample           HPF__01    HPF__02    HPF__03   HPF__04  \n",
       "1 dmb  HY     S0010_01_chow_HY 0.05197933 0.03023810 0.1824172 0.1229980\n",
       "2 dmb  HY     S0010_02_chow_HY 0.08876762 0.08017922 0.1459963 0.1170462\n",
       "3 dmb  HY     S0010_03_chow_HY 0.07109426 0.02853630 0.1832191 0.1384336\n",
       "4 dmb  HY     S0010_04_chow_HY 0.02948085 0.06371331 0.1535754 0.1107229\n",
       "5 dmb  HY     S0010_05_chow_HY 0.11411558 0.03807216 0.1615871 0.1345847\n",
       "6 dmb  HY     S0010_06_chow_HY 0.02021261 0.07189122 0.1562818 0.1019575\n",
       "  HPF__05     HPF__06      HPF__07     ⋯ ZI__39      ZI__40     ZI__41     \n",
       "1 -0.05775205  0.019439584 -0.06125762 ⋯ -0.08595527 0.05252190 -0.05822008\n",
       "2 -0.03252780 -0.004745673 -0.05191100 ⋯ -0.11281907 0.02927096 -0.02412367\n",
       "3 -0.06336754 -0.032457115 -0.06025051 ⋯ -0.10252465 0.06811403 -0.04506138\n",
       "4 -0.03764149  0.025134355 -0.05945944 ⋯ -0.05751049 0.03972461 -0.01765908\n",
       "5 -0.06702112  0.007702094 -0.05492529 ⋯ -0.15425467 0.03670603 -0.01827709\n",
       "6 -0.03508683 -0.025868732 -0.07505565 ⋯ -0.09517898 0.05157318 -0.02545144\n",
       "  ZI__42     ZI__43       ZI__44        ZI__45     ZI__46     ZI__47     \n",
       "1 0.06567769  0.036785185  0.0102144634 0.10537119 0.11220870 -0.04791984\n",
       "2 0.02603893  0.007287426 -0.0017344272 0.10817653 0.11961064 -0.04316019\n",
       "3 0.01064958  0.021634418 -0.0002412614 0.07374108 0.10598614 -0.02872247\n",
       "4 0.05303416 -0.004217487  0.0049177488 0.06565093 0.01816232 -0.03737867\n",
       "5 0.01769293 -0.020943932 -0.0073797921 0.09252465 0.09507013 -0.02601267\n",
       "6 0.02872648 -0.025390663  0.0255168968 0.07634631 0.05995981 -0.04782112\n",
       "  ZI__48     \n",
       "1 0.020875004\n",
       "2 0.006892997\n",
       "3 0.025098740\n",
       "4 0.014236332\n",
       "5 0.019362943\n",
       "6 0.008990742"
      ]
     },
     "metadata": {},
     "output_type": "display_data"
    }
   ],
   "source": [
    "new_colnames = c(colnames(kme)[(1:3)], modules$new_name)\n",
    "colnames(kme) = new_colnames\n",
    "\n",
    "kme = kme %>%\n",
    "rename(region = cell_cluster,\n",
    "       sample = cell_id)\n",
    "\n",
    "kme %>% head\n",
    "kme %>% write_csv('wgcna_output/renamed_tables/kME_cellModEmbed.csv')"
   ]
  },
  {
   "cell_type": "code",
   "execution_count": null,
   "id": "578edb7a",
   "metadata": {},
   "outputs": [],
   "source": []
  },
  {
   "cell_type": "code",
   "execution_count": 31,
   "id": "80853377",
   "metadata": {},
   "outputs": [
    {
     "name": "stderr",
     "output_type": "stream",
     "text": [
      "\u001b[1mRows: \u001b[22m\u001b[34m19770\u001b[39m \u001b[1mColumns: \u001b[22m\u001b[34m7\u001b[39m\n",
      "\u001b[36m──\u001b[39m \u001b[1mColumn specification\u001b[22m \u001b[36m────────────────────────────────────────────────────────\u001b[39m\n",
      "\u001b[1mDelimiter:\u001b[22m \",\"\n",
      "\u001b[31mchr\u001b[39m (5): data, run, cell_cluster, module, genes\n",
      "\u001b[32mdbl\u001b[39m (2): pkMs, gene_loadings\n",
      "\n",
      "\u001b[36mℹ\u001b[39m Use `spec()` to retrieve the full column specification for this data.\n",
      "\u001b[36mℹ\u001b[39m Specify the column types or set `show_col_types = FALSE` to quiet this message.\n",
      "\u001b[1m\u001b[22mAdding missing grouping variables: `region`\n"
     ]
    },
    {
     "data": {
      "text/html": [
       "<table class=\"dataframe\">\n",
       "<caption>A tibble: 6 × 10</caption>\n",
       "<thead>\n",
       "\t<tr><th scope=col>data</th><th scope=col>run</th><th scope=col>cell_cluster</th><th scope=col>module</th><th scope=col>name</th><th scope=col>genes</th><th scope=col>ortholog_ensg</th><th scope=col>ortholog_name</th><th scope=col>pkMs</th><th scope=col>gene_loadings</th></tr>\n",
       "\t<tr><th scope=col>&lt;chr&gt;</th><th scope=col>&lt;chr&gt;</th><th scope=col>&lt;chr&gt;</th><th scope=col>&lt;chr&gt;</th><th scope=col>&lt;chr&gt;</th><th scope=col>&lt;chr&gt;</th><th scope=col>&lt;chr&gt;</th><th scope=col>&lt;chr&gt;</th><th scope=col>&lt;dbl&gt;</th><th scope=col>&lt;dbl&gt;</th></tr>\n",
       "</thead>\n",
       "<tbody>\n",
       "\t<tr><td>dmb</td><td>ds4_mcs20_pF</td><td>HPF</td><td>orangered</td><td>HPF__23</td><td>ENSMUSG00000120785</td><td>NA</td><td>NA</td><td>0.8369424</td><td>0.1501479</td></tr>\n",
       "\t<tr><td>dmb</td><td>ds4_mcs20_pF</td><td>HPF</td><td>orangered</td><td>HPF__23</td><td>ENSMUSG00000108990</td><td>NA</td><td>NA</td><td>0.8353232</td><td>0.1498574</td></tr>\n",
       "\t<tr><td>dmb</td><td>ds4_mcs20_pF</td><td>HPF</td><td>orangered</td><td>HPF__23</td><td>ENSMUSG00000110233</td><td>NA</td><td>NA</td><td>0.7805153</td><td>0.1400248</td></tr>\n",
       "\t<tr><td>dmb</td><td>ds4_mcs20_pF</td><td>HPF</td><td>orangered</td><td>HPF__23</td><td>ENSMUSG00000083911</td><td>NA</td><td>NA</td><td>0.7797708</td><td>0.1398913</td></tr>\n",
       "\t<tr><td>dmb</td><td>ds4_mcs20_pF</td><td>HPF</td><td>orangered</td><td>HPF__23</td><td>ENSMUSG00000112311</td><td>NA</td><td>NA</td><td>0.7761567</td><td>0.1392429</td></tr>\n",
       "\t<tr><td>dmb</td><td>ds4_mcs20_pF</td><td>HPF</td><td>orangered</td><td>HPF__23</td><td>ENSMUSG00000103485</td><td>NA</td><td>NA</td><td>0.7539321</td><td>0.1352558</td></tr>\n",
       "</tbody>\n",
       "</table>\n"
      ],
      "text/latex": [
       "A tibble: 6 × 10\n",
       "\\begin{tabular}{llllllllll}\n",
       " data & run & cell\\_cluster & module & name & genes & ortholog\\_ensg & ortholog\\_name & pkMs & gene\\_loadings\\\\\n",
       " <chr> & <chr> & <chr> & <chr> & <chr> & <chr> & <chr> & <chr> & <dbl> & <dbl>\\\\\n",
       "\\hline\n",
       "\t dmb & ds4\\_mcs20\\_pF & HPF & orangered & HPF\\_\\_23 & ENSMUSG00000120785 & NA & NA & 0.8369424 & 0.1501479\\\\\n",
       "\t dmb & ds4\\_mcs20\\_pF & HPF & orangered & HPF\\_\\_23 & ENSMUSG00000108990 & NA & NA & 0.8353232 & 0.1498574\\\\\n",
       "\t dmb & ds4\\_mcs20\\_pF & HPF & orangered & HPF\\_\\_23 & ENSMUSG00000110233 & NA & NA & 0.7805153 & 0.1400248\\\\\n",
       "\t dmb & ds4\\_mcs20\\_pF & HPF & orangered & HPF\\_\\_23 & ENSMUSG00000083911 & NA & NA & 0.7797708 & 0.1398913\\\\\n",
       "\t dmb & ds4\\_mcs20\\_pF & HPF & orangered & HPF\\_\\_23 & ENSMUSG00000112311 & NA & NA & 0.7761567 & 0.1392429\\\\\n",
       "\t dmb & ds4\\_mcs20\\_pF & HPF & orangered & HPF\\_\\_23 & ENSMUSG00000103485 & NA & NA & 0.7539321 & 0.1352558\\\\\n",
       "\\end{tabular}\n"
      ],
      "text/markdown": [
       "\n",
       "A tibble: 6 × 10\n",
       "\n",
       "| data &lt;chr&gt; | run &lt;chr&gt; | cell_cluster &lt;chr&gt; | module &lt;chr&gt; | name &lt;chr&gt; | genes &lt;chr&gt; | ortholog_ensg &lt;chr&gt; | ortholog_name &lt;chr&gt; | pkMs &lt;dbl&gt; | gene_loadings &lt;dbl&gt; |\n",
       "|---|---|---|---|---|---|---|---|---|---|\n",
       "| dmb | ds4_mcs20_pF | HPF | orangered | HPF__23 | ENSMUSG00000120785 | NA | NA | 0.8369424 | 0.1501479 |\n",
       "| dmb | ds4_mcs20_pF | HPF | orangered | HPF__23 | ENSMUSG00000108990 | NA | NA | 0.8353232 | 0.1498574 |\n",
       "| dmb | ds4_mcs20_pF | HPF | orangered | HPF__23 | ENSMUSG00000110233 | NA | NA | 0.7805153 | 0.1400248 |\n",
       "| dmb | ds4_mcs20_pF | HPF | orangered | HPF__23 | ENSMUSG00000083911 | NA | NA | 0.7797708 | 0.1398913 |\n",
       "| dmb | ds4_mcs20_pF | HPF | orangered | HPF__23 | ENSMUSG00000112311 | NA | NA | 0.7761567 | 0.1392429 |\n",
       "| dmb | ds4_mcs20_pF | HPF | orangered | HPF__23 | ENSMUSG00000103485 | NA | NA | 0.7539321 | 0.1352558 |\n",
       "\n"
      ],
      "text/plain": [
       "  data run          cell_cluster module    name    genes             \n",
       "1 dmb  ds4_mcs20_pF HPF          orangered HPF__23 ENSMUSG00000120785\n",
       "2 dmb  ds4_mcs20_pF HPF          orangered HPF__23 ENSMUSG00000108990\n",
       "3 dmb  ds4_mcs20_pF HPF          orangered HPF__23 ENSMUSG00000110233\n",
       "4 dmb  ds4_mcs20_pF HPF          orangered HPF__23 ENSMUSG00000083911\n",
       "5 dmb  ds4_mcs20_pF HPF          orangered HPF__23 ENSMUSG00000112311\n",
       "6 dmb  ds4_mcs20_pF HPF          orangered HPF__23 ENSMUSG00000103485\n",
       "  ortholog_ensg ortholog_name pkMs      gene_loadings\n",
       "1 NA            NA            0.8369424 0.1501479    \n",
       "2 NA            NA            0.8353232 0.1498574    \n",
       "3 NA            NA            0.7805153 0.1400248    \n",
       "4 NA            NA            0.7797708 0.1398913    \n",
       "5 NA            NA            0.7761567 0.1392429    \n",
       "6 NA            NA            0.7539321 0.1352558    "
      ]
     },
     "metadata": {},
     "output_type": "display_data"
    }
   ],
   "source": [
    "me = read_csv('wgcna_output/tables/dmb_ds4_mcs20_pF_geneMod.csv.gz')\n",
    "\n",
    "me = me %>%\n",
    "mutate(old_name = paste0(cell_cluster, '__', module)) %>%\n",
    "left_join(modules %>% select(old_name, new_name), \n",
    "          by = 'old_name') %>%\n",
    "select(-region, -old_name) %>%\n",
    "rename(name = new_name) %>%\n",
    "relocate(name, .after='module')\n",
    "\n",
    "mouse_ensgs = me %>% pull(genes)\n",
    "#\n",
    "gprofiler_result <- gorth(\n",
    "    query = mouse_ensgs,\n",
    "    source_organism = 'mmusculus',\n",
    "    target_organism = 'hsapiens',\n",
    "    filter_na = FALSE\n",
    ") %>%\n",
    "distinct(input, .keep_all=TRUE) %>%\n",
    "filter(ortholog_ensg != 'N/A') %>%\n",
    "select(input, ortholog_ensg, ortholog_name) %>%\n",
    "rename(genes = input)\n",
    "\n",
    "me = me %>% \n",
    "left_join(gprofiler_result, by = 'genes') %>%\n",
    "relocate(ortholog_ensg, ortholog_name, .after='genes')\n",
    "\n",
    "me %>% head\n",
    "me %>% write_csv('wgcna_output/renamed_tables/wgcna_output_ds4_mcs20_pF_geneMod.csv')"
   ]
  },
  {
   "cell_type": "code",
   "execution_count": null,
   "id": "31c9973b",
   "metadata": {},
   "outputs": [],
   "source": []
  }
 ],
 "metadata": {
  "kernelspec": {
   "display_name": "R [conda env:dmb]",
   "language": "R",
   "name": "conda-env-dmb-r"
  },
  "language_info": {
   "codemirror_mode": "r",
   "file_extension": ".r",
   "mimetype": "text/x-r-source",
   "name": "R",
   "pygments_lexer": "r",
   "version": "4.2.2"
  }
 },
 "nbformat": 4,
 "nbformat_minor": 5
}
